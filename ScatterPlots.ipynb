{
 "cells": [
  {
   "cell_type": "code",
   "execution_count": 1,
   "metadata": {},
   "outputs": [
    {
     "name": "stderr",
     "output_type": "stream",
     "text": [
      "2018-09-26 16:10:43,126:WARNING:\n",
      "basemap extension library is not installed (or cannot be imported. Some features will not be available\n",
      "2018-09-26 16:10:43,865:WARNING:\n",
      "geopy library is not available. Aeolus data read not enabled\n"
     ]
    }
   ],
   "source": [
    "import pyaerocom as pya\n",
    "import os\n",
    "pya.change_verbosity('critical')"
   ]
  },
  {
   "cell_type": "markdown",
   "metadata": {},
   "source": [
    "## Interactive viewer for scatter plots\n",
    "\n",
    "This notebook is based on netCDF files that contain data that has been colocated. The colocated data files can be created using the [ANALYSIS_SCRIPT.py](https://github.com/metno/pyaerocom-synthesis/blob/master/ANALYSIS_SCRIPT.py) file which is part of this repository. "
   ]
  },
  {
   "cell_type": "code",
   "execution_count": 2,
   "metadata": {},
   "outputs": [],
   "source": [
    "DATA_DIR = 'output/colocated_data'\n",
    "\n",
    "# check if read is ok\n",
    "if not os.access(DATA_DIR, os.R_OK):\n",
    "    raise IOError('Cannot access data')"
   ]
  },
  {
   "cell_type": "code",
   "execution_count": 3,
   "metadata": {},
   "outputs": [],
   "source": [
    "from helpers.io import ReadColocatedData\n",
    "reader = ReadColocatedData(DATA_DIR)"
   ]
  },
  {
   "cell_type": "code",
   "execution_count": 4,
   "metadata": {},
   "outputs": [
    {
     "data": {
      "application/vnd.jupyter.widget-view+json": {
       "model_id": "163c3163d1754b8bb751bd50259387e9",
       "version_major": 2,
       "version_minor": 0
      },
      "text/plain": [
       "HBox(children=(VBox(children=(Dropdown(options=('abs550aer_REF-AeronetInvV3Lev2.daily_MOD-CAM5.3-Oslo_AP3-CTRL…"
      ]
     },
     "metadata": {},
     "output_type": "display_data"
    }
   ],
   "source": [
    "from helpers.widgets import PlotScatter\n",
    "p = PlotScatter(sorted(reader.files))\n",
    "p()"
   ]
  }
 ],
 "metadata": {
  "kernelspec": {
   "display_name": "Python 3",
   "language": "python",
   "name": "python3"
  },
  "language_info": {
   "codemirror_mode": {
    "name": "ipython",
    "version": 3
   },
   "file_extension": ".py",
   "mimetype": "text/x-python",
   "name": "python",
   "nbconvert_exporter": "python",
   "pygments_lexer": "ipython3",
   "version": "3.6.6"
  }
 },
 "nbformat": 4,
 "nbformat_minor": 2
}
