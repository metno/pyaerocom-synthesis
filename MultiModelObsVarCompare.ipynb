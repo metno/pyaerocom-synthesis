{
 "cells": [
  {
   "cell_type": "code",
   "execution_count": 1,
   "metadata": {},
   "outputs": [
    {
     "name": "stderr",
     "output_type": "stream",
     "text": [
      "/home/jonasg/anaconda3/lib/python3.6/site-packages/geonum/__init__.py:32: UserWarning: Neither LatLon23 nor LatLon are available. Many basic features will not be available (e.g. objects GeoPoint or GeoVector \n",
      "  warn('Neither LatLon23 nor LatLon are available. Many basic features '\n",
      "/home/jonasg/anaconda3/lib/python3.6/site-packages/geonum/__init__.py:42: UserWarning: Plotting of maps etc. is deactivated, please install Basemap\n",
      "  warn('Plotting of maps etc. is deactivated, please install Basemap')\n",
      "/home/jonasg/anaconda3/lib/python3.6/site-packages/matplotlib/cbook/deprecation.py:107: MatplotlibDeprecationWarning: The mpl_toolkits.axes_grid module was deprecated in version 2.1. Use mpl_toolkits.axes_grid1 and mpl_toolkits.axisartist provies the same functionality instead.\n",
      "  warnings.warn(message, mplDeprecation, stacklevel=1)\n"
     ]
    }
   ],
   "source": [
    "import pyaerocom as pya\n",
    "import os\n",
    "pya.change_verbosity('critical')"
   ]
  },
  {
   "cell_type": "markdown",
   "metadata": {},
   "source": [
    "## Comparison of multiple variables based on model suite and observations\n",
    "\n",
    "This notebook is based on netCDF files that contain data that has been colocated. The colocated data files can be created using the [ANALYSIS_SCRIPT.py](https://github.com/metno/pyaerocom-synthesis/blob/master/ANALYSIS_SCRIPT.py) file which is part of this repository. \n",
    "\n",
    "An overview of the available parameters, models and the corresponding obsnetworks used for the intercomparison study is provided below. "
   ]
  },
  {
   "cell_type": "markdown",
   "metadata": {},
   "source": [
    "### Setup paths and notebook options"
   ]
  },
  {
   "cell_type": "markdown",
   "metadata": {},
   "source": [
    "#### Directory for colocated data files"
   ]
  },
  {
   "cell_type": "code",
   "execution_count": 2,
   "metadata": {},
   "outputs": [],
   "source": [
    "DATA_DIR = pya.const.OUTPUTDIR + '/colocated_data'\n",
    "# check if read is ok\n",
    "if not os.access(DATA_DIR, os.R_OK):\n",
    "    raise IOError('Cannot access data')"
   ]
  },
  {
   "cell_type": "markdown",
   "metadata": {},
   "source": [
    "#### Comment on colocated data files\n",
    "\n",
    "The directory containing colocated data files (*DATA_DIR*) contains sub-directories for each model available. The colocated data files are named using the following convention:\n",
    "\n",
    "*<var_name>_REF-<obsnetwork_id>_MOD-<model_id>_<ts_type_source>_<start_date>_<stop_date>_<ts_type>_<filter_name>_COLL.nc*\n",
    "\n",
    "For instance:\n",
    "\n",
    "*abs550aer_REF-AeronetInvV3Lev2.daily_MOD-INCA-BCext_CTRL2016-PD-3hourly_20100101_20101231_monthly_WORLD-noMOUNTAINS_COLL.nc*"
   ]
  },
  {
   "cell_type": "markdown",
   "metadata": {},
   "source": [
    "#### Output directory"
   ]
  },
  {
   "cell_type": "code",
   "execution_count": 3,
   "metadata": {},
   "outputs": [],
   "source": [
    "OUTPUT_DIR = 'output_notebooks/'\n",
    "\n",
    "WRITE_OK = True\n",
    "if not os.access(OUTPUT_DIR, os.W_OK):\n",
    "    print('No write access to output directory, no files will be saved')\n",
    "    WRITE_OK = False"
   ]
  },
  {
   "cell_type": "markdown",
   "metadata": {},
   "source": [
    "#### Output files"
   ]
  },
  {
   "cell_type": "code",
   "execution_count": 4,
   "metadata": {},
   "outputs": [],
   "source": [
    "RESULT_TABLE = OUTPUT_DIR + 'multi_comp_table.csv'"
   ]
  },
  {
   "cell_type": "markdown",
   "metadata": {},
   "source": [
    "#### Options"
   ]
  },
  {
   "cell_type": "code",
   "execution_count": 5,
   "metadata": {},
   "outputs": [],
   "source": [
    "# If False and RESULT_TABLE exists, then the results are simply read from the table CSV file and not reloaded from the\n",
    "# colocated data .nc files (faster)\n",
    "RELOAD_RESULTS = False\n",
    "\n",
    "# It True, all heatmaps created below are saved as png in the above specified output directory\n",
    "SAVE_HEATMAPS = True"
   ]
  },
  {
   "cell_type": "markdown",
   "metadata": {},
   "source": [
    "### Import results \n",
    "\n",
    "First, check if results table exists and if not make sure results are reloaded. Then read results using reading class *ReadColocatedData*."
   ]
  },
  {
   "cell_type": "code",
   "execution_count": 6,
   "metadata": {},
   "outputs": [],
   "source": [
    "if not os.path.exists(RESULT_TABLE):\n",
    "    RELOAD_RESULTS = True    "
   ]
  },
  {
   "cell_type": "code",
   "execution_count": null,
   "metadata": {},
   "outputs": [
    {
     "data": {
      "application/vnd.jupyter.widget-view+json": {
       "model_id": "5a974e8cd96744b09d3a5bfe9c0060f7",
       "version_major": 2,
       "version_minor": 0
      },
      "text/plain": [
       "HBox(children=(Label(value='Reading meta from 354 files'), IntProgress(value=0, max=354)))"
      ]
     },
     "metadata": {},
     "output_type": "display_data"
    },
    {
     "data": {
      "application/vnd.jupyter.widget-view+json": {
       "model_id": "aa82ace9b3d74510a7820dfdce12d9d2",
       "version_major": 2,
       "version_minor": 0
      },
      "text/plain": [
       "HBox(children=(Label(value='Computing statistics (354 files)'), IntProgress(value=0, max=354)))"
      ]
     },
     "metadata": {},
     "output_type": "display_data"
    },
    {
     "name": "stderr",
     "output_type": "stream",
     "text": [
      "/home/jonasg/github/pyaerocom/pyaerocom/mathutils.py:86: RuntimeWarning: divide by zero encountered in true_divide\n",
      "  tmp = difference / (data + ref_data)\n",
      "/home/jonasg/github/pyaerocom/pyaerocom/mathutils.py:86: RuntimeWarning: invalid value encountered in true_divide\n",
      "  tmp = difference / (data + ref_data)\n"
     ]
    }
   ],
   "source": [
    "from helpers.io import ReadColocatedData\n",
    "reader = ReadColocatedData(DATA_DIR)\n",
    "\n",
    "if RELOAD_RESULTS:\n",
    "    table = reader.compute_statistics_table()\n",
    "    table.to_csv(RESULT_TABLE)\n",
    "else:\n",
    "    table = reader.read_statistics_table_csv(RESULT_TABLE)\n",
    "table #note that this table is also stored in reader.stats_table"
   ]
  },
  {
   "cell_type": "markdown",
   "metadata": {},
   "source": [
    "### Analysis of monthly results"
   ]
  },
  {
   "cell_type": "code",
   "execution_count": null,
   "metadata": {},
   "outputs": [],
   "source": [
    "ax=reader.plot_heatmap(colname='NMB', ts_type='monthly', color_rowwise=False,\n",
    "                       figsize=(20, 12), center=0, vmin=-100, vmax=100, output_dir=OUTPUT_DIR, savefig=SAVE_HEATMAPS)"
   ]
  },
  {
   "cell_type": "code",
   "execution_count": null,
   "metadata": {},
   "outputs": [],
   "source": [
    "reader.plot_heatmap(colname='RMS', ts_type='monthly', cmap='Reds', color_rowwise=True,\n",
    "                    figsize=(20, 12), output_dir=OUTPUT_DIR, savefig=SAVE_HEATMAPS)"
   ]
  },
  {
   "cell_type": "code",
   "execution_count": null,
   "metadata": {},
   "outputs": [],
   "source": [
    "reader.plot_heatmap(colname='FGE', ts_type='monthly', cmap='Reds', color_rowwise=True,\n",
    "                    figsize=(20, 12), output_dir=OUTPUT_DIR, savefig=SAVE_HEATMAPS)"
   ]
  },
  {
   "cell_type": "markdown",
   "metadata": {},
   "source": [
    "### Analysis of yearly results"
   ]
  },
  {
   "cell_type": "code",
   "execution_count": null,
   "metadata": {},
   "outputs": [],
   "source": [
    "ax=reader.plot_heatmap(colname='NMB', ts_type='yearly', color_rowwise=False,\n",
    "                       figsize=(16, 12), center=0, vmin=-100, vmax=100, output_dir=OUTPUT_DIR, savefig=SAVE_HEATMAPS)"
   ]
  },
  {
   "cell_type": "code",
   "execution_count": null,
   "metadata": {},
   "outputs": [],
   "source": [
    "reader.plot_heatmap(colname='RMS', ts_type='yearly', cmap='Reds', color_rowwise=True,\n",
    "                    figsize=(16, 12), output_dir=OUTPUT_DIR, savefig=SAVE_HEATMAPS)"
   ]
  },
  {
   "cell_type": "code",
   "execution_count": null,
   "metadata": {},
   "outputs": [],
   "source": [
    "reader.plot_heatmap(colname='FGE', ts_type='yearly', cmap='Reds', color_rowwise=True,\n",
    "                    figsize=(16, 12), output_dir=OUTPUT_DIR, savefig=SAVE_HEATMAPS)"
   ]
  }
 ],
 "metadata": {
  "kernelspec": {
   "display_name": "Python 3",
   "language": "python",
   "name": "python3"
  },
  "language_info": {
   "codemirror_mode": {
    "name": "ipython",
    "version": 3
   },
   "file_extension": ".py",
   "mimetype": "text/x-python",
   "name": "python",
   "nbconvert_exporter": "python",
   "pygments_lexer": "ipython3",
   "version": "3.6.5"
  }
 },
 "nbformat": 4,
 "nbformat_minor": 2
}
