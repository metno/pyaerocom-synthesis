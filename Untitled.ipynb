{
 "cells": [
  {
   "cell_type": "code",
   "execution_count": 14,
   "metadata": {},
   "outputs": [],
   "source": [
    "import pyaerocom as pya\n",
    "from warnings import filterwarnings"
   ]
  },
  {
   "cell_type": "code",
   "execution_count": 15,
   "metadata": {},
   "outputs": [
    {
     "name": "stdout",
     "output_type": "stream",
     "text": [
      "\n",
      "Pyaerocom ReadGridded\n",
      "---------------------\n",
      "Model ID: ECMWF_GSTX\n",
      "Data directory: /lustre/storeA/project/aerocom/aerocom-users-database/ECMWF/ECMWF_GSTX/renamed\n",
      "Available variables: ['ec5323Daer']\n",
      "Available years: [2009, 2010, 2011]\n",
      "Available time resolutions ['3hourly', 'daily']\n"
     ]
    }
   ],
   "source": [
    "r = pya.io.ReadGridded('ECMWF_GSTX')\n",
    "print(r)"
   ]
  },
  {
   "cell_type": "code",
   "execution_count": 16,
   "metadata": {},
   "outputs": [],
   "source": [
    "file = r.data_dir + '/ECMWF_GSTX.daily.ec532aer3D.201001.nc'"
   ]
  },
  {
   "cell_type": "code",
   "execution_count": 18,
   "metadata": {},
   "outputs": [
    {
     "data": {
      "text/html": [
       "\n",
       "<style>\n",
       "  a.iris {\n",
       "      text-decoration: none !important;\n",
       "  }\n",
       "  table.iris {\n",
       "      white-space: pre;\n",
       "      border: 1px solid;\n",
       "      border-color: #9c9c9c;\n",
       "      font-family: monaco, monospace;\n",
       "  }\n",
       "  th.iris {\n",
       "      background: #303f3f;\n",
       "      color: #e0e0e0;\n",
       "      border-left: 1px solid;\n",
       "      border-color: #9c9c9c;\n",
       "      font-size: 1.05em;\n",
       "      min-width: 50px;\n",
       "      max-width: 125px;\n",
       "  }\n",
       "  tr.iris :first-child {\n",
       "      border-right: 1px solid #9c9c9c !important;\n",
       "  }\n",
       "  td.iris-title {\n",
       "      background: #d5dcdf;\n",
       "      border-top: 1px solid #9c9c9c;\n",
       "      font-weight: bold;\n",
       "  }\n",
       "  .iris-word-cell {\n",
       "      text-align: left !important;\n",
       "      white-space: pre;\n",
       "  }\n",
       "  .iris-subheading-cell {\n",
       "      padding-left: 2em !important;\n",
       "  }\n",
       "  .iris-inclusion-cell {\n",
       "      padding-right: 1em !important;\n",
       "  }\n",
       "  .iris-panel-body {\n",
       "      padding-top: 0px;\n",
       "  }\n",
       "  .iris-panel-title {\n",
       "      padding-left: 3em;\n",
       "  }\n",
       "  .iris-panel-title {\n",
       "      margin-top: 7px;\n",
       "  }\n",
       "</style>\n",
       "<table class=\"iris\" id=\"139956995127336\">\n",
       "    <tr class=\"iris\">\n",
       "<th class=\"iris iris-word-cell\">Aerosol Extinction Coefficient At 532 Nm (m-1)</th>\n",
       "<th class=\"iris iris-word-cell\">time</th>\n",
       "<th class=\"iris iris-word-cell\">atmosphere_hybrid_sigma_pressure_coordinate</th>\n",
       "<th class=\"iris iris-word-cell\">latitude</th>\n",
       "<th class=\"iris iris-word-cell\">longitude</th>\n",
       "</tr>\n",
       "    <tr class=\"iris\">\n",
       "<td class=\"iris-word-cell iris-subheading-cell\">Shape</td>\n",
       "<td class=\"iris iris-inclusion-cell\">32</td>\n",
       "<td class=\"iris iris-inclusion-cell\">60</td>\n",
       "<td class=\"iris iris-inclusion-cell\">361</td>\n",
       "<td class=\"iris iris-inclusion-cell\">720</td>\n",
       "</td>\n",
       "    <tr class=\"iris\">\n",
       "    <td class=\"iris-title iris-word-cell\">Dimension coordinates</td>\n",
       "    <td class=\"iris-title\"></td>\n",
       "    <td class=\"iris-title\"></td>\n",
       "    <td class=\"iris-title\"></td>\n",
       "    <td class=\"iris-title\"></td>\n",
       "</tr>\n",
       "<tr class=\"iris\">\n",
       "    <td class=\"iris-word-cell iris-subheading-cell\">\ttime</td>\n",
       "    <td class=\"iris-inclusion-cell\">x</td>\n",
       "    <td class=\"iris-inclusion-cell\">-</td>\n",
       "    <td class=\"iris-inclusion-cell\">-</td>\n",
       "    <td class=\"iris-inclusion-cell\">-</td>\n",
       "</tr>\n",
       "<tr class=\"iris\">\n",
       "    <td class=\"iris-word-cell iris-subheading-cell\">\tatmosphere_hybrid_sigma_pressure_coordinate</td>\n",
       "    <td class=\"iris-inclusion-cell\">-</td>\n",
       "    <td class=\"iris-inclusion-cell\">x</td>\n",
       "    <td class=\"iris-inclusion-cell\">-</td>\n",
       "    <td class=\"iris-inclusion-cell\">-</td>\n",
       "</tr>\n",
       "<tr class=\"iris\">\n",
       "    <td class=\"iris-word-cell iris-subheading-cell\">\tlatitude</td>\n",
       "    <td class=\"iris-inclusion-cell\">-</td>\n",
       "    <td class=\"iris-inclusion-cell\">-</td>\n",
       "    <td class=\"iris-inclusion-cell\">x</td>\n",
       "    <td class=\"iris-inclusion-cell\">-</td>\n",
       "</tr>\n",
       "<tr class=\"iris\">\n",
       "    <td class=\"iris-word-cell iris-subheading-cell\">\tlongitude</td>\n",
       "    <td class=\"iris-inclusion-cell\">-</td>\n",
       "    <td class=\"iris-inclusion-cell\">-</td>\n",
       "    <td class=\"iris-inclusion-cell\">-</td>\n",
       "    <td class=\"iris-inclusion-cell\">x</td>\n",
       "</tr>\n",
       "<tr class=\"iris\">\n",
       "    <td class=\"iris-title iris-word-cell\">Attributes</td>\n",
       "    <td class=\"iris-title\"></td>\n",
       "    <td class=\"iris-title\"></td>\n",
       "    <td class=\"iris-title\"></td>\n",
       "    <td class=\"iris-title\"></td>\n",
       "</tr>\n",
       "<tr class=\"iris\">\n",
       "    <td class=\"iris-word-cell iris-subheading-cell\">\tCDI</td>\n",
       "    <td class=\"iris-word-cell\" colspan=\"4\">Climate Data Interface version 1.9.5 (http://mpimet.mpg.de/cdi)</td>\n",
       "</tr>\n",
       "<tr class=\"iris\">\n",
       "    <td class=\"iris-word-cell iris-subheading-cell\">\tCDO</td>\n",
       "    <td class=\"iris-word-cell\" colspan=\"4\">Climate Data Operators version 1.9.5 (http://mpimet.mpg.de/cdo)</td>\n",
       "</tr>\n",
       "<tr class=\"iris\">\n",
       "    <td class=\"iris-word-cell iris-subheading-cell\">\tConventions</td>\n",
       "    <td class=\"iris-word-cell\" colspan=\"4\">CF-1.0</td>\n",
       "</tr>\n",
       "<tr class=\"iris\">\n",
       "    <td class=\"iris-word-cell iris-subheading-cell\">\tExpires</td>\n",
       "    <td class=\"iris-word-cell\" colspan=\"4\">2010-03-01</td>\n",
       "</tr>\n",
       "<tr class=\"iris\">\n",
       "    <td class=\"iris-word-cell iris-subheading-cell\">\tcomment</td>\n",
       "    <td class=\"iris-word-cell\" colspan=\"4\">none</td>\n",
       "</tr>\n",
       "<tr class=\"iris\">\n",
       "    <td class=\"iris-word-cell iris-subheading-cell\">\tfrequency</td>\n",
       "    <td class=\"iris-word-cell\" colspan=\"4\">day</td>\n",
       "</tr>\n",
       "<tr class=\"iris\">\n",
       "    <td class=\"iris-word-cell iris-subheading-cell\">\thistory</td>\n",
       "    <td class=\"iris-word-cell\" colspan=\"4\">Wed Jan 23 14:48:53 2019: cdo -V -daymean ECMWF_GSTX.3hourly.ec532aer3D.201001.nc...</td>\n",
       "</tr>\n",
       "<tr class=\"iris\">\n",
       "    <td class=\"iris-word-cell iris-subheading-cell\">\tinstitution</td>\n",
       "    <td class=\"iris-word-cell\" colspan=\"4\">Norwegian Meteorological Institute, met.no</td>\n",
       "</tr>\n",
       "<tr class=\"iris\">\n",
       "    <td class=\"iris-word-cell iris-subheading-cell\">\tmax_time</td>\n",
       "    <td class=\"iris-word-cell\" colspan=\"4\">2010-02-01</td>\n",
       "</tr>\n",
       "<tr class=\"iris\">\n",
       "    <td class=\"iris-word-cell iris-subheading-cell\">\tmin_time</td>\n",
       "    <td class=\"iris-word-cell\" colspan=\"4\">2010-01-01 03:00:00Z</td>\n",
       "</tr>\n",
       "<tr class=\"iris\">\n",
       "    <td class=\"iris-word-cell iris-subheading-cell\">\treferences</td>\n",
       "    <td class=\"iris-word-cell\" colspan=\"4\">unknown</td>\n",
       "</tr>\n",
       "<tr class=\"iris\">\n",
       "    <td class=\"iris-word-cell iris-subheading-cell\">\tsource</td>\n",
       "    <td class=\"iris-word-cell\" colspan=\"4\">ECMWF</td>\n",
       "</tr>\n",
       "<tr class=\"iris\">\n",
       "    <td class=\"iris-word-cell iris-subheading-cell\">\ttitle</td>\n",
       "    <td class=\"iris-word-cell\" colspan=\"4\">unknown</td>\n",
       "</tr>\n",
       "<tr class=\"iris\">\n",
       "    <td class=\"iris-title iris-word-cell\">Cell methods</td>\n",
       "    <td class=\"iris-title\"></td>\n",
       "    <td class=\"iris-title\"></td>\n",
       "    <td class=\"iris-title\"></td>\n",
       "    <td class=\"iris-title\"></td>\n",
       "</tr>\n",
       "<tr class=\"iris\">\n",
       "    <td class=\"iris-word-cell iris-subheading-cell\">\tpoint</td>\n",
       "    <td class=\"iris-word-cell\" colspan=\"4\">time</td>\n",
       "</tr>\n",
       "</table>\n",
       "        "
      ],
      "text/plain": [
       "<iris 'Cube' of Aerosol extinction coefficient at 532 nm / (m-1) (time: 32; atmosphere_hybrid_sigma_pressure_coordinate: 60; latitude: 361; longitude: 720)>"
      ]
     },
     "execution_count": 18,
     "metadata": {},
     "output_type": "execute_result"
    }
   ],
   "source": [
    "filterwarnings('ignore')\n",
    "data = pya.GriddedData(file, var_name='aerext532')\n",
    "data.grid"
   ]
  },
  {
   "cell_type": "code",
   "execution_count": 34,
   "metadata": {},
   "outputs": [
    {
     "data": {
      "text/plain": [
       "DimCoord(array([9.86923267e-05, 2.88306650e-04, 5.03691818e-04, 7.86009214e-04,\n",
       "       1.13555524e-03, 1.55473801e-03, 2.04965903e-03, 2.63150674e-03,\n",
       "       3.31837016e-03, 4.13812019e-03, 5.13332906e-03, 6.36007441e-03,\n",
       "       7.87998323e-03, 9.76311492e-03, 1.20962710e-02, 1.49869966e-02,\n",
       "       1.85685378e-02, 2.30059837e-02, 2.85038752e-02, 3.53156335e-02,\n",
       "       4.37552430e-02, 5.39093414e-02, 6.57520399e-02, 7.93455113e-02,\n",
       "       9.47229920e-02, 1.11938045e-01, 1.31021646e-01, 1.51981400e-01,\n",
       "       1.74801487e-01, 1.99443231e-01, 2.25846219e-01, 2.53990382e-01,\n",
       "       2.83876973e-01, 3.15450963e-01, 3.48606543e-01, 3.83192688e-01,\n",
       "       4.19018663e-01, 4.55859507e-01, 4.93461634e-01, 5.31548322e-01,\n",
       "       5.69825231e-01, 6.07985920e-01, 6.45717397e-01, 6.82705645e-01,\n",
       "       7.18641106e-01, 7.53224255e-01, 7.86171102e-01, 8.17218688e-01,\n",
       "       8.46130636e-01, 8.72702732e-01, 8.96768368e-01, 9.18204033e-01,\n",
       "       9.36935008e-01, 9.52940741e-01, 9.66260361e-01, 9.76998297e-01,\n",
       "       9.85329761e-01, 9.91506271e-01, 9.95861141e-01, 9.98815060e-01]), bounds=array([[9.86923267e-05, 2.88306650e-04],\n",
       "       [2.88306650e-04, 5.03691818e-04],\n",
       "       [5.03691818e-04, 7.86009214e-04],\n",
       "       [7.86009214e-04, 1.13555524e-03],\n",
       "       [1.13555524e-03, 1.55473801e-03],\n",
       "       [1.55473801e-03, 2.04965903e-03],\n",
       "       [2.04965903e-03, 2.63150674e-03],\n",
       "       [2.63150674e-03, 3.31837016e-03],\n",
       "       [3.31837016e-03, 4.13812019e-03],\n",
       "       [4.13812019e-03, 5.13332906e-03],\n",
       "       [5.13332906e-03, 6.36007441e-03],\n",
       "       [6.36007441e-03, 7.87998323e-03],\n",
       "       [7.87998323e-03, 9.76311492e-03],\n",
       "       [9.76311492e-03, 1.20962710e-02],\n",
       "       [1.20962710e-02, 1.49869966e-02],\n",
       "       [1.49869966e-02, 1.85685378e-02],\n",
       "       [1.85685378e-02, 2.30059837e-02],\n",
       "       [2.30059837e-02, 2.85038752e-02],\n",
       "       [2.85038752e-02, 3.53156335e-02],\n",
       "       [3.53156335e-02, 4.37552430e-02],\n",
       "       [4.37552430e-02, 5.39093414e-02],\n",
       "       [5.39093414e-02, 6.57520399e-02],\n",
       "       [6.57520399e-02, 7.93455113e-02],\n",
       "       [7.93455113e-02, 9.47229920e-02],\n",
       "       [9.47229920e-02, 1.11938045e-01],\n",
       "       [1.11938045e-01, 1.31021646e-01],\n",
       "       [1.31021646e-01, 1.51981400e-01],\n",
       "       [1.51981400e-01, 1.74801487e-01],\n",
       "       [1.74801487e-01, 1.99443231e-01],\n",
       "       [1.99443231e-01, 2.25846219e-01],\n",
       "       [2.25846219e-01, 2.53990382e-01],\n",
       "       [2.53990382e-01, 2.83876973e-01],\n",
       "       [2.83876973e-01, 3.15450963e-01],\n",
       "       [3.15450963e-01, 3.48606543e-01],\n",
       "       [3.48606543e-01, 3.83192688e-01],\n",
       "       [3.83192688e-01, 4.19018663e-01],\n",
       "       [4.19018663e-01, 4.55859507e-01],\n",
       "       [4.55859507e-01, 4.93461634e-01],\n",
       "       [4.93461634e-01, 5.31548322e-01],\n",
       "       [5.31548322e-01, 5.69825231e-01],\n",
       "       [5.69825231e-01, 6.07985920e-01],\n",
       "       [6.07985920e-01, 6.45717397e-01],\n",
       "       [6.45717397e-01, 6.82705645e-01],\n",
       "       [6.82705645e-01, 7.18641106e-01],\n",
       "       [7.18641106e-01, 7.53224255e-01],\n",
       "       [7.53224255e-01, 7.86171102e-01],\n",
       "       [7.86171102e-01, 8.17218688e-01],\n",
       "       [8.17218688e-01, 8.46130636e-01],\n",
       "       [8.46130636e-01, 8.72702732e-01],\n",
       "       [8.72702732e-01, 8.96768368e-01],\n",
       "       [8.96768368e-01, 9.18204033e-01],\n",
       "       [9.18204033e-01, 9.36935008e-01],\n",
       "       [9.36935008e-01, 9.52940741e-01],\n",
       "       [9.52940741e-01, 9.66260361e-01],\n",
       "       [9.66260361e-01, 9.76998297e-01],\n",
       "       [9.76998297e-01, 9.85329761e-01],\n",
       "       [9.85329761e-01, 9.91506271e-01],\n",
       "       [9.91506271e-01, 9.95861141e-01],\n",
       "       [9.95861141e-01, 9.98815060e-01],\n",
       "       [9.98815060e-01, 1.99881506e+00]]), standard_name='atmosphere_hybrid_sigma_pressure_coordinate', units=Unit('unknown'), long_name='hybrid sigma pressure coordinate', var_name='hybrid0', attributes={'invalid_units': 'level', 'formula': 'p(n,k,j,i) = ap(k) + b(k)*ps(n,j,i)', 'positive': 'down'})"
      ]
     },
     "execution_count": 34,
     "metadata": {},
     "output_type": "execute_result"
    }
   ],
   "source": [
    "data.atmosphere_hybrid_sigma_pressure_coordinate"
   ]
  },
  {
   "cell_type": "markdown",
   "metadata": {},
   "source": [
    "Apparently, iris ignores ``surface`` variable completely. Use xarray to see what is in there."
   ]
  },
  {
   "cell_type": "code",
   "execution_count": 32,
   "metadata": {},
   "outputs": [
    {
     "data": {
      "text/plain": [
       "<xarray.Dataset>\n",
       "Dimensions:                  (bnds: 2, hybrid0: 60, hybrid1: 1, latitude1: 361, longitude1: 720, surface: 1, time: 32)\n",
       "Coordinates:\n",
       "  * time                     (time) datetime64[ns] 2010-01-01T12:00:00 ...\n",
       "  * longitude1               (longitude1) float32 0.0 0.5 1.0 1.5 2.0 2.5 ...\n",
       "  * latitude1                (latitude1) float32 90.0 89.5 89.0 88.5 88.0 ...\n",
       "  * hybrid0                  (hybrid0) float64 9.869e-05 0.0002883 0.0005037 ...\n",
       "  * surface                  (surface) float64 0.0\n",
       "  * hybrid1                  (hybrid1) float64 9.869e-05\n",
       "Dimensions without coordinates: bnds\n",
       "Data variables:\n",
       "    time_bnds                (time, bnds) float64 ...\n",
       "    projection_regular_ll1   int32 ...\n",
       "    projection_regular_ll    int32 ...\n",
       "    hybrid0_bnds             (hybrid0, bnds) float64 ...\n",
       "    aerext532                (time, hybrid0, latitude1, longitude1) float32 ...\n",
       "    surface_geopotential     (surface, latitude1, longitude1) float32 ...\n",
       "    surface_air_pressure_ln  (time, hybrid1, latitude1, longitude1) float32 ...\n",
       "Attributes:\n",
       "    CDI:          Climate Data Interface version 1.9.5 (http://mpimet.mpg.de/...\n",
       "    history:      Wed Jan 23 14:48:53 2019: cdo -V -daymean ECMWF_GSTX.3hourl...\n",
       "    source:       ECMWF\n",
       "    institution:  Norwegian Meteorological Institute, met.no\n",
       "    Conventions:  CF-1.0\n",
       "    title:        unknown\n",
       "    min_time:     2010-01-01 03:00:00Z\n",
       "    max_time:     2010-02-01\n",
       "    Expires:      2010-03-01\n",
       "    references:   unknown\n",
       "    comment:      none\n",
       "    frequency:    day\n",
       "    CDO:          Climate Data Operators version 1.9.5 (http://mpimet.mpg.de/..."
      ]
     },
     "execution_count": 32,
     "metadata": {},
     "output_type": "execute_result"
    }
   ],
   "source": [
    "import xarray\n",
    "ds = xarray.open_dataset(file)\n",
    "ds"
   ]
  },
  {
   "cell_type": "code",
   "execution_count": 33,
   "metadata": {},
   "outputs": [
    {
     "data": {
      "text/plain": [
       "<xarray.DataArray 'surface' (surface: 1)>\n",
       "array([0.])\n",
       "Coordinates:\n",
       "  * surface  (surface) float64 0.0\n",
       "Attributes:\n",
       "    long_name:    surface\n",
       "    units:        m\n",
       "    positive:     up\n",
       "    axis:         Z\n",
       "    description:  ground or water surface"
      ]
     },
     "execution_count": 33,
     "metadata": {},
     "output_type": "execute_result"
    }
   ],
   "source": [
    "ds['surface']"
   ]
  },
  {
   "cell_type": "code",
   "execution_count": 23,
   "metadata": {},
   "outputs": [],
   "source": [
    "import iris\n",
    "cubes = iris.load(file)"
   ]
  },
  {
   "cell_type": "code",
   "execution_count": 24,
   "metadata": {},
   "outputs": [
    {
     "name": "stdout",
     "output_type": "stream",
     "text": [
      "0: Aerosol extinction coefficient at 532 nm / (m-1) (time: 32; atmosphere_hybrid_sigma_pressure_coordinate: 60; latitude: 361; longitude: 720)\n",
      "1: surface_air_pressure / (1 ln(re 1Pa)) (time: 32; atmosphere_hybrid_sigma_pressure_coordinate: 1; latitude: 361; longitude: 720)\n",
      "2: surface_geopotential / (m^2/s^2)    (surface: 1; latitude: 361; longitude: 720)\n"
     ]
    }
   ],
   "source": [
    "print(cubes)"
   ]
  }
 ],
 "metadata": {
  "kernelspec": {
   "display_name": "Python 3",
   "language": "python",
   "name": "python3"
  },
  "language_info": {
   "codemirror_mode": {
    "name": "ipython",
    "version": 3
   },
   "file_extension": ".py",
   "mimetype": "text/x-python",
   "name": "python",
   "nbconvert_exporter": "python",
   "pygments_lexer": "ipython3",
   "version": "3.6.6"
  }
 },
 "nbformat": 4,
 "nbformat_minor": 2
}
