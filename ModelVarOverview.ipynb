{
 "cells": [
  {
   "cell_type": "markdown",
   "metadata": {},
   "source": [
    "## This notebook can be used as a quick check for variables in model list"
   ]
  },
  {
   "cell_type": "code",
   "execution_count": 1,
   "metadata": {},
   "outputs": [
    {
     "name": "stderr",
     "output_type": "stream",
     "text": [
      "2018-10-01 11:05:09,779:WARNING:\n",
      "basemap extension library is not installed (or cannot be imported. Some features will not be available\n",
      "OBS directory path /lustre/storeA/project/aerocom/aerocom1/AEROCOM_OBSDATA/AeronetSun2.0.SDA.AP/renamed does not exist\n",
      "OBS directory path /lustre/storeA/project/aerocom/aerocom1/AEROCOM_OBSDATA/AeronetSunV3Lev2.0.AP/renamed does not exist\n",
      "OBS directory path /lustre/storeA/project/aerocom/aerocom1/AEROCOM_OBSDATA/AeronetSun2.0.SDA.AP/renamed does not exist\n",
      "OBS directory path /lustre/storeA/project/aerocom/aerocom1/AEROCOM_OBSDATA/AeronetSunV3Lev2.0.AP/renamed does not exist\n",
      "2018-10-01 11:05:10,759:WARNING:\n",
      "geopy library is not available. Aeolus data read not enabled\n"
     ]
    }
   ],
   "source": [
    "# some inits and imports\n",
    "import warnings\n",
    "import os\n",
    "warnings.filterwarnings('ignore')\n",
    "import pyaerocom as pya\n",
    "pya.change_verbosity('critical')\n",
    "from helpers.model_list import get_model_ids, MODEL_DIR"
   ]
  },
  {
   "cell_type": "markdown",
   "metadata": {},
   "source": [
    "### Quickmode\n",
    "\n",
    "If True, the list will be created without column that include information that requires reading of the models. If True, then no *csv* file will be created."
   ]
  },
  {
   "cell_type": "code",
   "execution_count": 2,
   "metadata": {},
   "outputs": [],
   "source": [
    "QUICKMODE = False"
   ]
  },
  {
   "cell_type": "markdown",
   "metadata": {},
   "source": [
    "#### Output table\n",
    "\n",
    "The result table that is created in this notebook can be found (or is stored) in the output directory (note that this table may not be available in the online repository)."
   ]
  },
  {
   "cell_type": "code",
   "execution_count": 3,
   "metadata": {},
   "outputs": [],
   "source": [
    "OUT_FILE = 'output/model_var_overview.csv'"
   ]
  },
  {
   "cell_type": "markdown",
   "metadata": {},
   "source": [
    "#### Directory containing model IDs"
   ]
  },
  {
   "cell_type": "code",
   "execution_count": 4,
   "metadata": {},
   "outputs": [
    {
     "data": {
      "text/plain": [
       "'/lustre/storeA/project/aerocom/aerocom-users-database/AEROCOM-PHASE-III-CTRL2018/'"
      ]
     },
     "execution_count": 4,
     "metadata": {},
     "output_type": "execute_result"
    }
   ],
   "source": [
    "MODEL_DIR"
   ]
  },
  {
   "cell_type": "markdown",
   "metadata": {},
   "source": [
    "#### All model IDs"
   ]
  },
  {
   "cell_type": "code",
   "execution_count": 5,
   "metadata": {},
   "outputs": [
    {
     "data": {
      "text/plain": [
       "['INCA-BCext_CTRL2016-PD',\n",
       " 'GEOS5-freegcm_CTRL2016-PD',\n",
       " 'GEOS-Chem-v11-01_AP3-CTRL2016-PD',\n",
       " 'ECMWF-IFS-CY42R1-CAMS-RA-CTRL_AP3-CTRL2016-PD',\n",
       " 'INCA-BCin_CTRL2016-PD',\n",
       " 'SPRINTARS-T213_AP3-CTRL2016-PD',\n",
       " 'ECMWF-IFS-CY43R1-CAMS-NITRATE-DEV_AP3-CTRL2016-PD',\n",
       " 'ECHAM6-SALSA_CTRL2016-PD',\n",
       " 'CNRM-AESM2_AP3-CTRL2016-PD',\n",
       " 'ECHAM6-HAM2_AP3-CTRL2016-PD',\n",
       " 'SPRINTARS-T106_AP3-CTRL2016-PD',\n",
       " 'GEOS5-replay_CTRL2016-PD',\n",
       " 'HadGEM3-GA7.1_AP3-CTRL2016-PD',\n",
       " 'CNRM-AESM2Nud_AP3-CTRL2016-PD',\n",
       " 'INCA_CTRL2016-PD',\n",
       " 'GEOS5-assimilate_CTRL2016-PD',\n",
       " 'ECHAM6.3-HAM2.3_AP3-CTRL2016-PD',\n",
       " 'CAM5.3-Oslo_AP3-CTRL2016-PD']"
      ]
     },
     "execution_count": 5,
     "metadata": {},
     "output_type": "execute_result"
    }
   ],
   "source": [
    "models = get_model_ids()\n",
    "models"
   ]
  },
  {
   "cell_type": "markdown",
   "metadata": {},
   "source": [
    "### List of variables of interest\n",
    "\n",
    "Based on this list of variable names or patterns, an overview list will be created that provides information about the what is available in each of the above models."
   ]
  },
  {
   "cell_type": "code",
   "execution_count": 6,
   "metadata": {},
   "outputs": [],
   "source": [
    "VARS = ['ang4487aer', 'od550aer', 'od550lt1aer', 'ec*', 'scatc*', 'absc*', 'ssa*', 'od*3d']"
   ]
  },
  {
   "cell_type": "code",
   "execution_count": null,
   "metadata": {},
   "outputs": [
    {
     "name": "stdout",
     "output_type": "stream",
     "text": [
      "At model: INCA-BCext_CTRL2016-PD (0 of 18)\n"
     ]
    }
   ],
   "source": [
    "df = pya.utils.create_varinfo_table(model_ids=models, \n",
    "                                    vars_or_var_patterns=VARS,\n",
    "                                    read_data=not QUICKMODE,\n",
    "                                    sort_by_cols=['Var', 'Model'])"
   ]
  },
  {
   "cell_type": "markdown",
   "metadata": {},
   "source": [
    "#### Save table as csv (if applicable)"
   ]
  },
  {
   "cell_type": "code",
   "execution_count": null,
   "metadata": {},
   "outputs": [],
   "source": [
    "if not QUICKMODE or not os.path.exists(OUT_FILE):\n",
    "    df.to_csv(OUT_FILE)"
   ]
  },
  {
   "cell_type": "markdown",
   "metadata": {},
   "source": [
    "#### Display overview table"
   ]
  },
  {
   "cell_type": "code",
   "execution_count": null,
   "metadata": {
    "scrolled": false
   },
   "outputs": [],
   "source": [
    "from helpers.pandas import _dataframe_highlight_4d_no_altitude_dim\n",
    "df.style.apply(_dataframe_highlight_4d_no_altitude_dim, axis=None)"
   ]
  }
 ],
 "metadata": {
  "kernelspec": {
   "display_name": "Python 3",
   "language": "python",
   "name": "python3"
  },
  "language_info": {
   "codemirror_mode": {
    "name": "ipython",
    "version": 3
   },
   "file_extension": ".py",
   "mimetype": "text/x-python",
   "name": "python",
   "nbconvert_exporter": "python",
   "pygments_lexer": "ipython3",
   "version": "3.6.5"
  }
 },
 "nbformat": 4,
 "nbformat_minor": 2
}
